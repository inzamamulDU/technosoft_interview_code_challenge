{
  "nbformat": 4,
  "nbformat_minor": 0,
  "metadata": {
    "colab": {
      "provenance": [],
      "authorship_tag": "ABX9TyOiaJ3t/ggQqYOAzPA7D6ow",
      "include_colab_link": true
    },
    "kernelspec": {
      "name": "python3",
      "display_name": "Python 3"
    },
    "language_info": {
      "name": "python"
    }
  },
  "cells": [
    {
      "cell_type": "markdown",
      "metadata": {
        "id": "view-in-github",
        "colab_type": "text"
      },
      "source": [
        "<a href=\"https://colab.research.google.com/github/inzamamulDU/technosoft_interview_code_challenge/blob/main/technosoft_interview.ipynb\" target=\"_parent\"><img src=\"https://colab.research.google.com/assets/colab-badge.svg\" alt=\"Open In Colab\"/></a>"
      ]
    },
    {
      "cell_type": "code",
      "execution_count": 3,
      "metadata": {
        "colab": {
          "base_uri": "https://localhost:8080/"
        },
        "id": "fPkDWOdixyRV",
        "outputId": "e5cceaf0-b4d4-4d8a-d595-5d66e19005cb"
      },
      "outputs": [
        {
          "output_type": "stream",
          "name": "stdout",
          "text": [
            "racecar\n",
            "true\n"
          ]
        }
      ],
      "source": [
        "#1. palindrome check\n",
        "def isPalindrome(str):\n",
        " \n",
        "    # Run loop from 0 to len/2\n",
        "    for i in range(0, int(len(str)/2)):\n",
        "        if str[i] != str[len(str)-i-1]:\n",
        "            return False\n",
        "    return True\n",
        " \n",
        "# main function\n",
        "inp = input() # input is like this: racecar and then press enter\n",
        "ans = isPalindrome(inp)\n",
        " \n",
        "if (ans):\n",
        "    print(\"true\")\n",
        "else:\n",
        "    print(\"false\")"
      ]
    },
    {
      "cell_type": "code",
      "source": [
        "#2. group anagrams\n",
        "from collections import defaultdict\n",
        " \n",
        "# initializing input\n",
        "inp = [item for item in input().split()] # input is like this: eat tea tan ate nat bat and then press enter\n",
        " \n",
        "# printing original list\n",
        "print(str(inp))\n",
        " \n",
        "# using A defaultdict function then use sort and return values. Using  a defaultdict will never raise a KeyError.\n",
        "# Grouping Anagrams\n",
        "temp = defaultdict(list)\n",
        "for i in inp:\n",
        "    temp[str(sorted(i))].append(i)\n",
        "res = list(temp.values())\n",
        " \n",
        "# print result\n",
        "print(str(res))"
      ],
      "metadata": {
        "colab": {
          "base_uri": "https://localhost:8080/"
        },
        "id": "gho_tnjSyXij",
        "outputId": "303b3f82-2ec0-4fbe-da2a-6b6eb5f09535"
      },
      "execution_count": 4,
      "outputs": [
        {
          "output_type": "stream",
          "name": "stdout",
          "text": [
            "eat tea tan ate nat bat\n",
            "['eat', 'tea', 'tan', 'ate', 'nat', 'bat']\n",
            "[['eat', 'tea', 'ate'], ['tan', 'nat'], ['bat']]\n"
          ]
        }
      ]
    },
    {
      "cell_type": "code",
      "source": [],
      "metadata": {
        "id": "3WJp0_zQ1mtg"
      },
      "execution_count": 2,
      "outputs": []
    }
  ]
}